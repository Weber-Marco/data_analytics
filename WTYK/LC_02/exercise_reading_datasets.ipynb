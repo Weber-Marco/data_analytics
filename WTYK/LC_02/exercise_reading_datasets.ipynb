{
 "cells": [
  {
   "cell_type": "markdown",
   "metadata": {},
   "source": [
    "## Exercises large classes (Week_02)"
   ]
  },
  {
   "cell_type": "markdown",
   "metadata": {},
   "source": [
    "## Python libraries and settings"
   ]
  },
  {
   "cell_type": "code",
   "execution_count": 1,
   "metadata": {},
   "outputs": [
    {
     "name": "stdout",
     "output_type": "stream",
     "text": [
      "/workspaces/data_analytics/WTYK/LC_02\n"
     ]
    }
   ],
   "source": [
    "# Python libraries\n",
    "import os\n",
    "import re\n",
    "import pandas as pd\n",
    "import matplotlib.pyplot as plt\n",
    "\n",
    "# Settings\n",
    "import warnings\n",
    "warnings.filterwarnings(\"ignore\")\n",
    "\n",
    "# Get working directory\n",
    "print(os.getcwd())\n"
   ]
  },
  {
   "cell_type": "markdown",
   "metadata": {},
   "source": [
    "### BigmacPrice.csv"
   ]
  },
  {
   "cell_type": "code",
   "execution_count": null,
   "metadata": {},
   "outputs": [],
   "source": [
    "# Read BigmacPrice.csv to data frame\n",
    "df = \n",
    "\n",
    "# Print header\n",
    "\n",
    "\n",
    "# Show data types\n",
    "\n",
    "\n",
    "# Show type of 'df'\n",
    "\n"
   ]
  },
  {
   "cell_type": "markdown",
   "metadata": {},
   "source": [
    "### ChickenData.xlsx"
   ]
  },
  {
   "cell_type": "code",
   "execution_count": 3,
   "metadata": {},
   "outputs": [
    {
     "name": "stdout",
     "output_type": "stream",
     "text": [
      "   chicken_id       weight              breed  eggs_per_year\n",
      "0           1  2728.854920  New Hampshire Red            158\n",
      "1           2  2323.761365         Australorp            273\n",
      "2           3  2635.062034  New Hampshire Red            153\n",
      "3           4  2603.985152      Plymouth Rock            268\n",
      "4           5  3079.394487         Australorp            360\n",
      "\n",
      " chicken_id         int64\n",
      "weight           float64\n",
      "breed             object\n",
      "eggs_per_year      int64\n",
      "dtype: object\n",
      "\n",
      " <class 'pandas.core.frame.DataFrame'>\n",
      "{'New Hampshire Red': 297, 'Australorp': 213, 'Plymouth Rock': 314, 'Barnevelder': 316, 'ISA Brown': 225}\n"
     ]
    }
   ],
   "source": [
    "# Read ChickenData.xlsx to data frame\n",
    "df = pd.read_excel('ChickenData.xlsx')\n",
    "\n",
    "# Print header\n",
    "print(df.head())\n",
    "\n",
    "# Show data types\n",
    "print(\"\\n\", df.dtypes)\n",
    "\n",
    "\n",
    "# Show type of 'df'\n",
    "print(\"\\n\", type(df))\n",
    "\n",
    "# Create dictionary from the data frame with breed (keys) and eggs_per_year (values)\n",
    "breed_eggs_dict = df.set_index('breed')['eggs_per_year'].to_dict()\n",
    "\n",
    "# Print the dictionary\n",
    "print(breed_eggs_dict)"
   ]
  },
  {
   "cell_type": "markdown",
   "metadata": {},
   "source": [
    "### Cars_autoscout24.csv"
   ]
  },
  {
   "cell_type": "code",
   "execution_count": null,
   "metadata": {},
   "outputs": [],
   "source": [
    "# Linux commands to get/set encoding of file (run in terminal)\n",
    "# file -i Cars_autoscout24.csv\n",
    "# --> provides 'charset=unknown-8bit'\n",
    "# --> download the file and open with e.g. Notepad++ (on Windows)\n",
    "# --> shows ANSI which is \"windows-1252\" (see https://de.wikipedia.org/wiki/Windows-1252)\n",
    "\n",
    "# Convert to UTF-8, if needed, otherwise, use encoding='cp1252' in pd.read_csv\n",
    "# iconv -f \"windows-1252\" -t \"UTF-8\" Cars_autoscout24.csv -o Cars_autoscout24_utf8.csv\n",
    "\n",
    "# Read Cars_autoscout24.csv to data frame\n",
    "\n",
    "\n",
    "\n",
    "# Function to extract numerical values from the column 'Price'\n",
    "\n",
    "\n",
    "\n",
    "# Apply the function to the column 'Price' and create a new column 'Price_numeric'\n",
    "\n",
    "\n",
    "\n",
    "# Display the DataFrame\n",
    "\n"
   ]
  },
  {
   "cell_type": "markdown",
   "metadata": {},
   "source": [
    "### Histogram of car prices"
   ]
  },
  {
   "cell_type": "code",
   "execution_count": null,
   "metadata": {},
   "outputs": [],
   "source": [
    "# Plotting the histogram of car prices\n",
    "\n"
   ]
  }
 ],
 "metadata": {
  "kernelspec": {
   "display_name": "Python 3",
   "language": "python",
   "name": "python3"
  },
  "language_info": {
   "codemirror_mode": {
    "name": "ipython",
    "version": 3
   },
   "file_extension": ".py",
   "mimetype": "text/x-python",
   "name": "python",
   "nbconvert_exporter": "python",
   "pygments_lexer": "ipython3",
   "version": "3.11.10"
  },
  "orig_nbformat": 4
 },
 "nbformat": 4,
 "nbformat_minor": 2
}
